{
  "nbformat": 4,
  "nbformat_minor": 0,
  "metadata": {
    "colab": {
      "provenance": []
    },
    "kernelspec": {
      "name": "python3",
      "display_name": "Python 3"
    },
    "language_info": {
      "name": "python"
    }
  },
  "cells": [
    {
      "cell_type": "markdown",
      "source": [
        "## 데이터셋 출처\n",
        "- https://www.kaggle.com/datasets/abrambeyer/openintro-possum  \n",
        "\n",
        "### 데이터 구성\n",
        "- case : 관찰 숫자\n",
        "- site : 너구리가 포획된 위치\n",
        "- Pop : 인구, 빅토리아(Vic) 또는 다른 지역(뉴사우스웨일스 또는 퀸즐랜드)\n",
        "- sex : 성별\n",
        "- age : 나이\n",
        "- hdlngth : 머리 길이 (mm)\n",
        "- skullw : 두개골 폭 (mm)\n",
        "- totlngth : 전체 길이 (cm)\n",
        "- taill : 꼬리 길이 (cm)\n",
        "- footlgth : 발 길이\n",
        "- earconch : 귀 고막 길이\n",
        "- eye : 눈 길이\n",
        "- chest girt : 가슴 둘레\n",
        "- belly girt : 배 둘레\n",
        "\n",
        "### 이 데이터로 풀 수 있는 문제들\n",
        "- 총 길이를 사용하여 너구리의 머리 길이를 예측할 수 있을까?\n",
        "- 너구리의 몸 크기 중 나이와 성별과 가장 관련이 높은 것은 무엇일까?\n",
        "- 너구리의 몸 크기와 위치를 통해 그 성별을 분류할 수 있을까?\n",
        "- 너구리의 몸 크기로부터 그것의 포획 위치를 예측할 수 있을까?"
      ],
      "metadata": {
        "id": "UnjOysGIRtfj"
      }
    },
    {
      "cell_type": "code",
      "execution_count": null,
      "metadata": {
        "id": "Mu6AVz2HRqnv"
      },
      "outputs": [],
      "source": [
        "# 데이터 분석을 위한 pandas, 수치계산을 위한 numpy\n",
        "# 시각화를 위한 seaborn, matplotlib.pyplot 을 로드합니다.\n",
        "\n",
        "import pandas as pd\n",
        "import numpy as np\n",
        "import seaborn as sns\n",
        "import matplotlib.pyplot as plt"
      ]
    },
    {
      "cell_type": "markdown",
      "source": [
        "## 데이터셋 로드"
      ],
      "metadata": {
        "id": "oYgtjozRcHNw"
      }
    },
    {
      "cell_type": "code",
      "source": [
        "df = pd.read_csv(\"/content/drive/MyDrive/도봉1기LLM/0_머신러닝/data/possum/possum.csv\")\n",
        "df.shape"
      ],
      "metadata": {
        "id": "oZrzcodRXsyZ"
      },
      "execution_count": null,
      "outputs": []
    },
    {
      "cell_type": "code",
      "source": [
        "# 상위 5개\n"
      ],
      "metadata": {
        "id": "nPwljOabdF3H"
      },
      "execution_count": null,
      "outputs": []
    },
    {
      "cell_type": "code",
      "source": [
        "# 데이터 정보\n"
      ],
      "metadata": {
        "id": "tzmlm-vek2jK"
      },
      "execution_count": null,
      "outputs": []
    },
    {
      "cell_type": "code",
      "source": [
        "# drop을 사용해 object열은 삭제\n",
        "df =\n",
        "df"
      ],
      "metadata": {
        "id": "Dw7nTYm1qOgI"
      },
      "execution_count": null,
      "outputs": []
    },
    {
      "cell_type": "code",
      "source": [
        "# 중복되지 않은 수 반환 / 고유 값\n"
      ],
      "metadata": {
        "id": "L7JWa6BLdONx"
      },
      "execution_count": null,
      "outputs": []
    },
    {
      "cell_type": "code",
      "source": [
        "# 결측치 여부\n"
      ],
      "metadata": {
        "id": "5Mnltjvre2Hp"
      },
      "execution_count": null,
      "outputs": []
    },
    {
      "cell_type": "code",
      "source": [
        "df ="
      ],
      "metadata": {
        "id": "jdVQkX76u1a5"
      },
      "execution_count": null,
      "outputs": []
    },
    {
      "cell_type": "code",
      "source": [],
      "metadata": {
        "id": "XvnSIlXhvBfX"
      },
      "execution_count": null,
      "outputs": []
    },
    {
      "cell_type": "markdown",
      "source": [
        "# EDA"
      ],
      "metadata": {
        "id": "XbJDRCjtkaAZ"
      }
    },
    {
      "cell_type": "code",
      "source": [
        "# 히스토그램 보통 수치형변수들만 출력이된다. object는 출력이 안됨.\n",
        "_ =\n"
      ],
      "metadata": {
        "id": "aYX_r8Ovj8wq"
      },
      "execution_count": null,
      "outputs": []
    },
    {
      "cell_type": "code",
      "source": [
        "# 첫 번째 열('case')를 제외한 나머지 열을 선택!\n"
      ],
      "metadata": {
        "id": "17eEP7w5l2he"
      },
      "execution_count": null,
      "outputs": []
    },
    {
      "cell_type": "code",
      "source": [],
      "metadata": {
        "id": "r4v7SjLRlxO7"
      },
      "execution_count": null,
      "outputs": []
    },
    {
      "cell_type": "markdown",
      "source": [
        "## 정답이자 예측해야 될 값"
      ],
      "metadata": {
        "id": "T1DatTLsj4OQ"
      }
    },
    {
      "cell_type": "code",
      "source": [
        "label_name =\n",
        "label_name"
      ],
      "metadata": {
        "id": "4q1Y7OC1j6AK"
      },
      "execution_count": null,
      "outputs": []
    },
    {
      "cell_type": "markdown",
      "source": [
        "## 학습, 예측에 사용할 컬럼"
      ],
      "metadata": {
        "id": "vX78AwX1jvxY"
      }
    },
    {
      "cell_type": "code",
      "source": [
        "# feature_names 라는 변수에 학습과 예측에 사용할 컬럼명을 가져옵니다.\n",
        "# 컬럼명을 리스트로 가져오고 사용하지 않을 컬럼을 제거합니다.\n",
        "feature_names =\n",
        "\n"
      ],
      "metadata": {
        "id": "_A0ftNaTf0SU"
      },
      "execution_count": null,
      "outputs": []
    },
    {
      "cell_type": "markdown",
      "source": [
        "## 학습, 예측 데이터셋 만들기"
      ],
      "metadata": {
        "id": "NBDF0LrYmmLr"
      }
    },
    {
      "cell_type": "code",
      "source": [
        "df.shape"
      ],
      "metadata": {
        "id": "YX2ZqlEynmEP"
      },
      "execution_count": null,
      "outputs": []
    },
    {
      "cell_type": "code",
      "source": [
        " # 8:2의 비율로 구하기 위해 전체 데이터의 행에서 80%위치에 해당되는 값을 구해서 split_count라는 변수에 담습니다.\n",
        " split_count =\n"
      ],
      "metadata": {
        "id": "wJgM8K7FnnHk"
      },
      "execution_count": null,
      "outputs": []
    },
    {
      "cell_type": "code",
      "source": [
        "train =\n"
      ],
      "metadata": {
        "id": "OM2XpiScn2SE"
      },
      "execution_count": null,
      "outputs": []
    },
    {
      "cell_type": "code",
      "source": [
        "test =\n"
      ],
      "metadata": {
        "id": "1NjW4ZThn8Ka"
      },
      "execution_count": null,
      "outputs": []
    },
    {
      "cell_type": "code",
      "source": [
        "# 학습 세트 만들기 예) 시험의 기출문제\n",
        "X_train =\n"
      ],
      "metadata": {
        "id": "aYHQK8B3mi6p"
      },
      "execution_count": null,
      "outputs": []
    },
    {
      "cell_type": "code",
      "source": [
        "# 정답 값을 만들어 줍니다. 예) 기출문제의 정답\n",
        "y_train =\n"
      ],
      "metadata": {
        "id": "4utRboPnpNEQ"
      },
      "execution_count": null,
      "outputs": []
    },
    {
      "cell_type": "code",
      "source": [
        "# 예측에 사용할 데이터세트를 만듭니다. 예) 실전 시험 문제\n",
        "X_test =\n"
      ],
      "metadata": {
        "id": "zM1Nq9qbpRL1"
      },
      "execution_count": null,
      "outputs": []
    },
    {
      "cell_type": "code",
      "source": [
        "# 예측의 정답값 예) 실전 시험 문제의 정답\n",
        "y_test =\n"
      ],
      "metadata": {
        "id": "hfuUN3eupSjQ"
      },
      "execution_count": null,
      "outputs": []
    },
    {
      "cell_type": "markdown",
      "source": [
        "# 머신러닝 알고리즘 가져오기"
      ],
      "metadata": {
        "id": "QUyOKw_ipbEn"
      }
    },
    {
      "cell_type": "code",
      "source": [
        "from sklearn.tree import\n"
      ],
      "metadata": {
        "id": "vd6EgEkOpTio"
      },
      "execution_count": null,
      "outputs": []
    },
    {
      "cell_type": "markdown",
      "source": [
        "Q. `random_state`의 기능은 무엇일까요?"
      ],
      "metadata": {
        "id": "t1DxIpL8rCzZ"
      }
    },
    {
      "cell_type": "markdown",
      "source": [
        "# 학습(훈련)\n",
        "* 시험을 볼 때 기출문제(X_train)와 정답(y_train)을 보고 공부하는 과정과 유사합니다."
      ],
      "metadata": {
        "id": "Ns4npNXcp03X"
      }
    },
    {
      "cell_type": "code",
      "source": [],
      "metadata": {
        "id": "b4cvzzE6pcal"
      },
      "execution_count": null,
      "outputs": []
    },
    {
      "cell_type": "markdown",
      "source": [
        "# cross validation 으로 학습 세트의 오차 측정하기"
      ],
      "metadata": {
        "id": "uae3w2sSvVun"
      }
    },
    {
      "cell_type": "code",
      "source": [
        "# model_selection의 cross_val_predict 로 cv 로 조각을 나눠 valid 데이터의 학습결과 측정하기\n",
        "from sklearn.model_selection import cross_val_predict\n",
        "y_valid_predict =\n"
      ],
      "metadata": {
        "id": "5P4Kos2wp2b2"
      },
      "execution_count": null,
      "outputs": []
    },
    {
      "cell_type": "code",
      "source": [
        "# 정답을 정확하게 맞춘 갯수\n"
      ],
      "metadata": {
        "id": "YLXk0HWuvY6d"
      },
      "execution_count": null,
      "outputs": []
    },
    {
      "cell_type": "code",
      "source": [
        "# 전체 예측해야 하는 train 데이터의 갯수\n"
      ],
      "metadata": {
        "id": "nABp04p6vaKY"
      },
      "execution_count": null,
      "outputs": []
    },
    {
      "cell_type": "markdown",
      "source": [
        "## 실제값과 예측값의 차이 시각화 하기"
      ],
      "metadata": {
        "id": "H-XN10F0vcIX"
      }
    },
    {
      "cell_type": "code",
      "source": [
        "# regplot 으로 결과 값을 비교합니다.\n"
      ],
      "metadata": {
        "id": "ZJrIdnR6va7M"
      },
      "execution_count": null,
      "outputs": []
    },
    {
      "cell_type": "code",
      "source": [
        "# jointplot 으로 실제값과 예측값을 비교합니다.\n"
      ],
      "metadata": {
        "id": "U36H_Pw7vdKg"
      },
      "execution_count": null,
      "outputs": []
    },
    {
      "cell_type": "code",
      "source": [
        "# residplot 으로 잔차(오차값)을 시각화 합니다.\n"
      ],
      "metadata": {
        "id": "YcjbMWCMvgd7"
      },
      "execution_count": null,
      "outputs": []
    },
    {
      "cell_type": "markdown",
      "source": [
        "# R2 score 구하기"
      ],
      "metadata": {
        "id": "P3zQ6775v-k3"
      }
    },
    {
      "cell_type": "markdown",
      "source": [
        "- `r2_score`는 회귀 모델의 성능을 평가하는 지표 중 하나, 결정 계수(Coefficient of Determination)라고도 불름\n",
        "- 모델이 데이터의 분산을 얼마나 잘 설명하는지 나타내며, 0과 1사이의 값을 가짐"
      ],
      "metadata": {
        "id": "auKUjeIdxuJB"
      }
    },
    {
      "cell_type": "markdown",
      "source": [
        "$$ R^{2} = 1-\\frac{SS_{res}}{SS_{tot}}$$\n"
      ],
      "metadata": {
        "id": "UsK8DnEowX4i"
      }
    },
    {
      "cell_type": "markdown",
      "source": [
        "- $SS_{res}$는 잔차 제곱 합(Residual Sum of Squares)이고, $SS_{tot}$는 총 제곱 합(Total Sum of Squares)이다.\n",
        "- $SS_{res}$는 실제 값과 모델 예측 값 사이의 차이의 제곱합이며, $SS_{tot}$는 실제값과 실제 값의 평균 사이의 차이의 제곱합이다."
      ],
      "metadata": {
        "id": "oxaqxxdwx8Lb"
      }
    },
    {
      "cell_type": "markdown",
      "source": [
        "- `R^{2} = 1` : 모델이 데이터를 완벽하게 예측한다는 것을 의미합니다. 즉, 모든 데이터 포인트가 모델에 의해 예측된 선 혹은 곡선에 정확히 위치\n",
        "- `R^{2} = 0` : 모델이 데이터의 분산을 전혀 설명하지 못한다는 것을 의미합니다. 이 경우, 모델의 예측이 단순히 평균값으로만 이루어진 것과 다름없습니다.\n",
        "- `R^{2} < 0` : 모델의 성능이 평균값을 이용한 예측보다도 나쁘다는 것을 의미합니다. 이는 모델이 데이터를 잘못 해석했거나 데이터 자체가 매우 불규칙적이라는 것"
      ],
      "metadata": {
        "id": "3E8TyghByeQ6"
      }
    },
    {
      "cell_type": "markdown",
      "source": [
        "`R^{2}`값이 데이터의 복잡성이나 모델이 과적합(overfitting)되었는지를 직접적으로 나타내지는 않는다."
      ],
      "metadata": {
        "id": "KfKi3LFAy1O_"
      }
    },
    {
      "cell_type": "code",
      "source": [
        "# r2_score 를 구합니다.\n",
        "from sklearn.metrics import r2_score\n",
        "\n"
      ],
      "metadata": {
        "id": "iH9o9FB2vtZ0"
      },
      "execution_count": null,
      "outputs": []
    },
    {
      "cell_type": "code",
      "source": [
        "# y_train, y_predict 값을 데이터프레임으로 만듭니다.\n",
        "df_y =\n",
        "\n"
      ],
      "metadata": {
        "id": "LHGkyQHQvvT2"
      },
      "execution_count": null,
      "outputs": []
    },
    {
      "cell_type": "code",
      "source": [
        "# displot으로 정답값과 예측값의 분포를 그립니다.\n"
      ],
      "metadata": {
        "id": "xvU8ynIAzAMx"
      },
      "execution_count": null,
      "outputs": []
    },
    {
      "cell_type": "markdown",
      "source": [
        "# 오차 구하기"
      ],
      "metadata": {
        "id": "Slkb31XkzI2Q"
      }
    },
    {
      "cell_type": "code",
      "source": [],
      "metadata": {
        "id": "OvPAHifDzBMy"
      },
      "execution_count": null,
      "outputs": []
    },
    {
      "cell_type": "code",
      "source": [],
      "metadata": {
        "id": "r03yNeoUzKgy"
      },
      "execution_count": null,
      "outputs": []
    },
    {
      "cell_type": "code",
      "source": [
        "# 오차의 절대값 구하기\n",
        "error =\n"
      ],
      "metadata": {
        "id": "cxZVqwk1zLsX"
      },
      "execution_count": null,
      "outputs": []
    },
    {
      "cell_type": "code",
      "source": [
        "# 오차값에 대한 describe 값을 구합니다.\n"
      ],
      "metadata": {
        "id": "B0QmjhPZzSdk"
      },
      "execution_count": null,
      "outputs": []
    },
    {
      "cell_type": "code",
      "source": [],
      "metadata": {
        "id": "_CXodl95zTss"
      },
      "execution_count": null,
      "outputs": []
    },
    {
      "cell_type": "code",
      "source": [
        "# displot으로 오차값의 분포를 그립니다.\n"
      ],
      "metadata": {
        "id": "B1Cr3uA1zU-L"
      },
      "execution_count": null,
      "outputs": []
    },
    {
      "cell_type": "markdown",
      "source": [
        "## MAE(Mean Absolute Error)\n",
        "* [Mean absolute error - Wikipedia](https://en.wikipedia.org/wiki/Mean_absolute_error)"
      ],
      "metadata": {
        "id": "zMsIv3gpzaXv"
      }
    },
    {
      "cell_type": "code",
      "source": [
        "# 예측값과 실제값의 차이에 대한 절대값의 평균\n",
        "error =\n",
        "\n"
      ],
      "metadata": {
        "id": "vUilcwfFzWJy"
      },
      "execution_count": null,
      "outputs": []
    },
    {
      "cell_type": "markdown",
      "source": [
        "## MAPE(Mean Absolute Percentage Error)"
      ],
      "metadata": {
        "id": "7cjiG1oWzdgJ"
      }
    },
    {
      "cell_type": "code",
      "source": [
        "# (실제값 - 예측값 / 실제값)의 절대값에 대한 평균\n",
        "error =\n",
        "\n"
      ],
      "metadata": {
        "id": "5zQN31MIzb3e"
      },
      "execution_count": null,
      "outputs": []
    },
    {
      "cell_type": "markdown",
      "source": [
        "### MSE(Mean Squared Error)"
      ],
      "metadata": {
        "id": "TQqdb5IAzhSM"
      }
    },
    {
      "cell_type": "code",
      "source": [
        "# 실제값 - 예측값의 차이의 제곱의 평균\n",
        "# MAE와 비슷해 보이나 제곱을 통해 음수를 양수로 변환함\n",
        "# 분산과 유사한 공식\n",
        "error =\n",
        "\n"
      ],
      "metadata": {
        "id": "K3IPXm2ozf7s"
      },
      "execution_count": null,
      "outputs": []
    },
    {
      "cell_type": "markdown",
      "source": [
        "### RMSE(Root Mean Squared Error)"
      ],
      "metadata": {
        "id": "SqWWQx0lzjmB"
      }
    },
    {
      "cell_type": "code",
      "source": [
        "# RMSE\n",
        "rmse =\n"
      ],
      "metadata": {
        "id": "Cou_Iy_1ziPI"
      },
      "execution_count": null,
      "outputs": []
    },
    {
      "cell_type": "markdown",
      "source": [
        "## 트리 알고리즘 분석하기\n",
        "* 피처의 중요도를 구합니다."
      ],
      "metadata": {
        "id": "SCiM00hSzl-P"
      }
    },
    {
      "cell_type": "code",
      "source": [
        "# 피처의 중요도를 추출하기\n",
        "model."
      ],
      "metadata": {
        "id": "Q0DfvND3zkmg"
      },
      "execution_count": null,
      "outputs": []
    },
    {
      "cell_type": "code",
      "source": [
        "# 피처의 중요도 시각화 하기\n"
      ],
      "metadata": {
        "id": "wjU_wf2pznEj"
      },
      "execution_count": null,
      "outputs": []
    },
    {
      "cell_type": "markdown",
      "source": [
        "# 예측\n",
        "* 실전 시험문제(X_test)라고 보면 됩니다. 우리가 정답을 직접 예측합니다.\n",
        "* Insulin 이 0인 값을 예측 했기 때문에 정답을 알 수 없습니다.\n",
        "* 따라서 점수는 train set로 측정한 값을 참고합니다."
      ],
      "metadata": {
        "id": "SS9nSZRJzpR5"
      }
    },
    {
      "cell_type": "code",
      "source": [
        "# y_test\n",
        "y_predict =\n"
      ],
      "metadata": {
        "id": "d88mobx4zoNM"
      },
      "execution_count": null,
      "outputs": []
    },
    {
      "cell_type": "markdown",
      "source": [
        "## 실제값과 예측값 비교하기"
      ],
      "metadata": {
        "id": "NfWY1bNNzwJX"
      }
    },
    {
      "cell_type": "code",
      "source": [
        "\n",
        "\n"
      ],
      "metadata": {
        "id": "-7hDbnxYzvSH"
      },
      "execution_count": null,
      "outputs": []
    }
  ]
}