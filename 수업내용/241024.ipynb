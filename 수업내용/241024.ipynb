{
  "nbformat": 4,
  "nbformat_minor": 0,
  "metadata": {
    "colab": {
      "provenance": []
    },
    "kernelspec": {
      "name": "python3",
      "display_name": "Python 3"
    },
    "language_info": {
      "name": "python"
    }
  },
  "cells": [
    {
      "cell_type": "code",
      "execution_count": null,
      "metadata": {
        "id": "IGsvFcaDIFHK"
      },
      "outputs": [],
      "source": [
        "a = 3\n",
        "b = 5"
      ]
    },
    {
      "cell_type": "code",
      "source": [
        "print(a + b)"
      ],
      "metadata": {
        "colab": {
          "base_uri": "https://localhost:8080/"
        },
        "id": "J2yYeQyDIJwE",
        "outputId": "c20d1c9c-f27e-4b1e-b7d6-7046c0b18f9b"
      },
      "execution_count": null,
      "outputs": [
        {
          "output_type": "stream",
          "name": "stdout",
          "text": [
            "8\n"
          ]
        }
      ]
    },
    {
      "cell_type": "code",
      "source": [
        "print(\"a+b\")"
      ],
      "metadata": {
        "colab": {
          "base_uri": "https://localhost:8080/"
        },
        "id": "cFYV7-j7IL3o",
        "outputId": "03b35d9d-68da-4ca6-f296-16f06726e8ea"
      },
      "execution_count": null,
      "outputs": [
        {
          "output_type": "stream",
          "name": "stdout",
          "text": [
            "a+b\n"
          ]
        }
      ]
    },
    {
      "cell_type": "code",
      "source": [
        "a = 8"
      ],
      "metadata": {
        "id": "XLI4rcJMIPb_"
      },
      "execution_count": null,
      "outputs": []
    },
    {
      "cell_type": "code",
      "source": [
        "print(a+b)"
      ],
      "metadata": {
        "colab": {
          "base_uri": "https://localhost:8080/"
        },
        "id": "-unE-fOsIQrC",
        "outputId": "72b383e3-7d16-4791-c442-5af80bf703f0"
      },
      "execution_count": null,
      "outputs": [
        {
          "output_type": "stream",
          "name": "stdout",
          "text": [
            "13\n"
          ]
        }
      ]
    },
    {
      "cell_type": "code",
      "source": [
        "a = a+1\n",
        "a"
      ],
      "metadata": {
        "colab": {
          "base_uri": "https://localhost:8080/"
        },
        "id": "biUsrqECNM5Z",
        "outputId": "fbfe2ad9-c475-4e04-9d88-4a1a454e8a99"
      },
      "execution_count": null,
      "outputs": [
        {
          "output_type": "execute_result",
          "data": {
            "text/plain": [
              "22"
            ]
          },
          "metadata": {},
          "execution_count": 24
        }
      ]
    },
    {
      "cell_type": "code",
      "source": [
        "#a + =1 연산자 사이에 띄어쓰기 하면 오류남, 연산자와 숫자 사이에는 띄어써도 오류안남\n",
        "#a"
      ],
      "metadata": {
        "colab": {
          "base_uri": "https://localhost:8080/",
          "height": 110
        },
        "id": "bKkDcF7GNxpI",
        "outputId": "1d02722d-d79f-49f1-d539-16eb6bac3f02"
      },
      "execution_count": null,
      "outputs": [
        {
          "output_type": "error",
          "ename": "SyntaxError",
          "evalue": "invalid syntax (<ipython-input-27-a8c663a78689>, line 1)",
          "traceback": [
            "\u001b[0;36m  File \u001b[0;32m\"<ipython-input-27-a8c663a78689>\"\u001b[0;36m, line \u001b[0;32m1\u001b[0m\n\u001b[0;31m    a + =1\u001b[0m\n\u001b[0m        ^\u001b[0m\n\u001b[0;31mSyntaxError\u001b[0m\u001b[0;31m:\u001b[0m invalid syntax\n"
          ]
        }
      ]
    },
    {
      "cell_type": "code",
      "source": [
        "a = 3\n",
        "b = 5\n",
        "print(a+b) #print가 없으면 가장 마지막 줄만 출력되기때문에 print문 자주 사용해보는게 좋음\n",
        "print(a-b)"
      ],
      "metadata": {
        "colab": {
          "base_uri": "https://localhost:8080/"
        },
        "id": "9zfXmFnnPRFy",
        "outputId": "bf0bdf1a-52b3-4cab-b675-0d8b6287d925"
      },
      "execution_count": null,
      "outputs": [
        {
          "output_type": "stream",
          "name": "stdout",
          "text": [
            "8\n",
            "-2\n"
          ]
        }
      ]
    },
    {
      "cell_type": "code",
      "source": [
        "str_1 = '인덱싱을 하기 위한 string입니다.' # .과'사이에는 한칸이 있다고 받아들임\n",
        "len(str_1)"
      ],
      "metadata": {
        "colab": {
          "base_uri": "https://localhost:8080/"
        },
        "id": "rBaJ_t-zQtAg",
        "outputId": "89aaf345-43e7-4f81-9f06-2a9f19232288"
      },
      "execution_count": null,
      "outputs": [
        {
          "output_type": "execute_result",
          "data": {
            "text/plain": [
              "22"
            ]
          },
          "metadata": {},
          "execution_count": 30
        }
      ]
    },
    {
      "cell_type": "code",
      "source": [
        "str_1[-2] #없는 index 수를 적으면 오류뜸.( -가 붙어도 마찬가지)"
      ],
      "metadata": {
        "colab": {
          "base_uri": "https://localhost:8080/",
          "height": 35
        },
        "id": "22jwQto_Solq",
        "outputId": "0a7e1ad6-8057-4df3-e65d-52f1b7bc6e2e"
      },
      "execution_count": null,
      "outputs": [
        {
          "output_type": "execute_result",
          "data": {
            "text/plain": [
              "'.'"
            ],
            "application/vnd.google.colaboratory.intrinsic+json": {
              "type": "string"
            }
          },
          "metadata": {},
          "execution_count": 38
        }
      ]
    },
    {
      "cell_type": "code",
      "source": [
        "str_1[11:17]\n",
        "#str_1[-6:12]"
      ],
      "metadata": {
        "colab": {
          "base_uri": "https://localhost:8080/",
          "height": 35
        },
        "id": "jwLBY-sMUJIh",
        "outputId": "fecebd9f-fd29-4c79-af2d-201f9abcdd9d"
      },
      "execution_count": null,
      "outputs": [
        {
          "output_type": "execute_result",
          "data": {
            "text/plain": [
              "'string'"
            ],
            "application/vnd.google.colaboratory.intrinsic+json": {
              "type": "string"
            }
          },
          "metadata": {},
          "execution_count": 44
        }
      ]
    },
    {
      "cell_type": "code",
      "source": [
        "str_2 = '안녕하세요. 홍길동 고객님!'\n",
        "str_2[7:10]\n",
        "print(str_2[:2]) # 시작점부터 출력\n",
        "print(str_2[11:]) #끝까지 출력\n",
        "print(str_2[:]) #전체 출력\n",
        "print(str_2[-4:]) #-4번째부터 오른쪽 뒤에 있는 문자열 출력\n",
        "print(str_2[:-2]) # 앞에서부터 -2번째 문자열까지 출력\n",
        "print(str_2[::-1])"
      ],
      "metadata": {
        "colab": {
          "base_uri": "https://localhost:8080/"
        },
        "id": "pWPcQypAU3x9",
        "outputId": "b7f5b0a9-4003-4db4-b5c8-1b06fa2cd184"
      },
      "execution_count": null,
      "outputs": [
        {
          "output_type": "stream",
          "name": "stdout",
          "text": [
            "안녕\n",
            "고객님!\n",
            "안녕하세요. 홍길동 고객님!\n",
            "고객님!\n",
            "안녕하세요. 홍길동 고객\n",
            "!님객고 동길홍 .요세하녕안\n"
          ]
        }
      ]
    },
    {
      "cell_type": "code",
      "source": [
        "str_3 = 'Alphabet'\n",
        "print(str_3.lower())\n",
        "print(str_3.upper())\n",
        "#print(str_3.lower)\n",
        "#<built-in method lower of str object at 0x78a49dca3070> 오류남\n",
        "print(str_3.lower().count('a'))\n",
        "#print(str_3.count('a').lower()) = a 갯수를 센 뒤 그걸 소문자로 바꾸란 뜻임으로 오류남.\n",
        "#정수를 소문자로 바꾸란 뜻\n"
      ],
      "metadata": {
        "colab": {
          "base_uri": "https://localhost:8080/",
          "height": 239
        },
        "id": "v8Veiqn8YZSJ",
        "outputId": "486f10e1-3513-442c-bc79-23cc9cf39f6f"
      },
      "execution_count": null,
      "outputs": [
        {
          "output_type": "stream",
          "name": "stdout",
          "text": [
            "alphabet\n",
            "ALPHABET\n",
            "2\n"
          ]
        },
        {
          "output_type": "error",
          "ename": "AttributeError",
          "evalue": "'int' object has no attribute 'lower'",
          "traceback": [
            "\u001b[0;31m---------------------------------------------------------------------------\u001b[0m",
            "\u001b[0;31mAttributeError\u001b[0m                            Traceback (most recent call last)",
            "\u001b[0;32m<ipython-input-58-7dc6914f3287>\u001b[0m in \u001b[0;36m<cell line: 7>\u001b[0;34m()\u001b[0m\n\u001b[1;32m      5\u001b[0m \u001b[0;31m#<built-in method lower of str object at 0x78a49dca3070> 오류남\u001b[0m\u001b[0;34m\u001b[0m\u001b[0;34m\u001b[0m\u001b[0m\n\u001b[1;32m      6\u001b[0m \u001b[0mprint\u001b[0m\u001b[0;34m(\u001b[0m\u001b[0mstr_3\u001b[0m\u001b[0;34m.\u001b[0m\u001b[0mlower\u001b[0m\u001b[0;34m(\u001b[0m\u001b[0;34m)\u001b[0m\u001b[0;34m.\u001b[0m\u001b[0mcount\u001b[0m\u001b[0;34m(\u001b[0m\u001b[0;34m'a'\u001b[0m\u001b[0;34m)\u001b[0m\u001b[0;34m)\u001b[0m\u001b[0;34m\u001b[0m\u001b[0;34m\u001b[0m\u001b[0m\n\u001b[0;32m----> 7\u001b[0;31m \u001b[0mprint\u001b[0m\u001b[0;34m(\u001b[0m\u001b[0mstr_3\u001b[0m\u001b[0;34m.\u001b[0m\u001b[0mcount\u001b[0m\u001b[0;34m(\u001b[0m\u001b[0;34m'a'\u001b[0m\u001b[0;34m)\u001b[0m\u001b[0;34m.\u001b[0m\u001b[0mlower\u001b[0m\u001b[0;34m(\u001b[0m\u001b[0;34m)\u001b[0m\u001b[0;34m)\u001b[0m\u001b[0;34m\u001b[0m\u001b[0;34m\u001b[0m\u001b[0m\n\u001b[0m",
            "\u001b[0;31mAttributeError\u001b[0m: 'int' object has no attribute 'lower'"
          ]
        }
      ]
    },
    {
      "cell_type": "code",
      "source": [
        "str_4 = 'Life is C between B and D'\n",
        "str_4.replace('C', \"Chicken\")"
      ],
      "metadata": {
        "colab": {
          "base_uri": "https://localhost:8080/",
          "height": 35
        },
        "id": "96zlZ5y2x432",
        "outputId": "dec883bf-bfef-428c-aca7-38641890a4d0"
      },
      "execution_count": 1,
      "outputs": [
        {
          "output_type": "execute_result",
          "data": {
            "text/plain": [
              "'Life is Chiclen between B and D'"
            ],
            "application/vnd.google.colaboratory.intrinsic+json": {
              "type": "string"
            }
          },
          "metadata": {},
          "execution_count": 1
        }
      ]
    },
    {
      "cell_type": "code",
      "source": [
        "str_4.split()"
      ],
      "metadata": {
        "colab": {
          "base_uri": "https://localhost:8080/"
        },
        "id": "QuOzGvoDyLZ0",
        "outputId": "e5d3fc73-2f48-4c3b-acb9-9d0804aca9f9"
      },
      "execution_count": 3,
      "outputs": [
        {
          "output_type": "execute_result",
          "data": {
            "text/plain": [
              "['Life', 'is', 'C', 'between', 'B', 'and', 'D']"
            ]
          },
          "metadata": {},
          "execution_count": 3
        }
      ]
    },
    {
      "cell_type": "code",
      "source": [
        "list_6 = ['a','b','c']\n",
        "list_7 = ['가','나','다']\n",
        "list_6+list_7"
      ],
      "metadata": {
        "colab": {
          "base_uri": "https://localhost:8080/"
        },
        "id": "rTefE0Zy2ehW",
        "outputId": "10ec20e0-b9c9-4787-bfc1-977e6644976b"
      },
      "execution_count": 33,
      "outputs": [
        {
          "output_type": "execute_result",
          "data": {
            "text/plain": [
              "['a', 'b', 'c', '가', '나', '다']"
            ]
          },
          "metadata": {},
          "execution_count": 33
        }
      ]
    },
    {
      "cell_type": "code",
      "source": [
        "list_6*3"
      ],
      "metadata": {
        "colab": {
          "base_uri": "https://localhost:8080/"
        },
        "id": "Ot-2t4oy3NhS",
        "outputId": "f77f7a71-cf1a-45f4-a086-34459b18a979"
      },
      "execution_count": 34,
      "outputs": [
        {
          "output_type": "execute_result",
          "data": {
            "text/plain": [
              "['a', 'b', 'c', 'a', 'b', 'c', 'a', 'b', 'c']"
            ]
          },
          "metadata": {},
          "execution_count": 34
        }
      ]
    },
    {
      "cell_type": "code",
      "source": [
        "type(list_7)"
      ],
      "metadata": {
        "colab": {
          "base_uri": "https://localhost:8080/"
        },
        "id": "J4edfMZq3Q3z",
        "outputId": "2cf7c932-ebd3-4a05-ae51-b46364e35d7a"
      },
      "execution_count": 35,
      "outputs": [
        {
          "output_type": "execute_result",
          "data": {
            "text/plain": [
              "list"
            ]
          },
          "metadata": {},
          "execution_count": 35
        }
      ]
    },
    {
      "cell_type": "code",
      "source": [
        "a in list_6"
      ],
      "metadata": {
        "colab": {
          "base_uri": "https://localhost:8080/",
          "height": 146
        },
        "id": "Ib6swA1h3Ve7",
        "outputId": "325ec7e0-1181-463a-b83d-c6c3efb7034b"
      },
      "execution_count": 36,
      "outputs": [
        {
          "output_type": "error",
          "ename": "NameError",
          "evalue": "name 'a' is not defined",
          "traceback": [
            "\u001b[0;31m---------------------------------------------------------------------------\u001b[0m",
            "\u001b[0;31mNameError\u001b[0m                                 Traceback (most recent call last)",
            "\u001b[0;32m<ipython-input-36-d4d77bedfd3b>\u001b[0m in \u001b[0;36m<cell line: 1>\u001b[0;34m()\u001b[0m\n\u001b[0;32m----> 1\u001b[0;31m \u001b[0ma\u001b[0m \u001b[0;32min\u001b[0m \u001b[0mlist_6\u001b[0m\u001b[0;34m\u001b[0m\u001b[0;34m\u001b[0m\u001b[0m\n\u001b[0m",
            "\u001b[0;31mNameError\u001b[0m: name 'a' is not defined"
          ]
        }
      ]
    },
    {
      "cell_type": "code",
      "source": [
        "list_8 = ['파이썬', 'C', 'java']\n",
        "list_8.append('R') #append : 항상 뒤에 덮어쓰여짐.\n",
        "list_8"
      ],
      "metadata": {
        "colab": {
          "base_uri": "https://localhost:8080/"
        },
        "id": "WrxDdAxE3flT",
        "outputId": "e6b56a00-abc6-4d8f-a68f-178fa52151c6"
      },
      "execution_count": 28,
      "outputs": [
        {
          "output_type": "execute_result",
          "data": {
            "text/plain": [
              "['파이썬', 'C', 'java', 'R']"
            ]
          },
          "metadata": {},
          "execution_count": 28
        }
      ]
    },
    {
      "cell_type": "code",
      "source": [
        "list_8.insert(2, 'C++') #insert : 원하는 위치에 덮어쓰여짐.\n",
        "list_8"
      ],
      "metadata": {
        "colab": {
          "base_uri": "https://localhost:8080/"
        },
        "id": "dZIdR4P537Kw",
        "outputId": "61c55023-a27a-470c-f921-80af16d09d80"
      },
      "execution_count": 29,
      "outputs": [
        {
          "output_type": "execute_result",
          "data": {
            "text/plain": [
              "['파이썬', 'C', 'C++', 'java', 'R']"
            ]
          },
          "metadata": {},
          "execution_count": 29
        }
      ]
    },
    {
      "cell_type": "code",
      "source": [
        "list_8[0] = 'Python'\n",
        "list_8"
      ],
      "metadata": {
        "colab": {
          "base_uri": "https://localhost:8080/"
        },
        "id": "lFMbhgn04I3M",
        "outputId": "b1c3fc89-d002-48ee-cb0c-8638f9020b57"
      },
      "execution_count": 30,
      "outputs": [
        {
          "output_type": "execute_result",
          "data": {
            "text/plain": [
              "['Python', 'C', 'C++', 'java', 'R']"
            ]
          },
          "metadata": {},
          "execution_count": 30
        }
      ]
    },
    {
      "cell_type": "code",
      "source": [
        "list_8.remove('C')\n"
      ],
      "metadata": {
        "colab": {
          "base_uri": "https://localhost:8080/"
        },
        "id": "GujuMT6f4QiP",
        "outputId": "0550c7b9-aca6-444c-a5dd-7827c8ba1d3c"
      },
      "execution_count": 31,
      "outputs": [
        {
          "output_type": "execute_result",
          "data": {
            "text/plain": [
              "['Python', 'C++', 'java', 'R']"
            ]
          },
          "metadata": {},
          "execution_count": 31
        }
      ]
    },
    {
      "cell_type": "code",
      "source": [
        "list_8"
      ],
      "metadata": {
        "id": "gqySmzmk4f6M"
      },
      "execution_count": null,
      "outputs": []
    },
    {
      "cell_type": "code",
      "source": [
        "list_8.pop() #마지막 메소드 꺼내줌\n"
      ],
      "metadata": {
        "colab": {
          "base_uri": "https://localhost:8080/",
          "height": 35
        },
        "id": "STcW7HU_4hEZ",
        "outputId": "45244e71-9a8c-43e9-e1d4-f6cce7c2d577"
      },
      "execution_count": 32,
      "outputs": [
        {
          "output_type": "execute_result",
          "data": {
            "text/plain": [
              "'R'"
            ],
            "application/vnd.google.colaboratory.intrinsic+json": {
              "type": "string"
            }
          },
          "metadata": {},
          "execution_count": 32
        }
      ]
    },
    {
      "cell_type": "code",
      "source": [
        "list_9 = [1,5,7,2,6]\n",
        "list_9.sort()#오름차순\n",
        "list_9.sort(reverse= True) #내림차순\n",
        "list_9"
      ],
      "metadata": {
        "colab": {
          "base_uri": "https://localhost:8080/"
        },
        "id": "_Ela7Id8487s",
        "outputId": "9f3edea3-a7be-467d-d294-cc64c497db7a"
      },
      "execution_count": 43,
      "outputs": [
        {
          "output_type": "execute_result",
          "data": {
            "text/plain": [
              "[7, 6, 5, 2, 1]"
            ]
          },
          "metadata": {},
          "execution_count": 43
        }
      ]
    },
    {
      "cell_type": "code",
      "source": [
        "print(sorted(list_9))"
      ],
      "metadata": {
        "id": "835M067n5CTG"
      },
      "execution_count": null,
      "outputs": []
    },
    {
      "cell_type": "code",
      "source": [
        "a = [10,9,8,7,6]\n",
        "b = [5,6,7,8,9]"
      ],
      "metadata": {
        "id": "6Svv7Sr06lve"
      },
      "execution_count": 45,
      "outputs": []
    },
    {
      "cell_type": "code",
      "source": [
        "print(id(a), id(b)) #id : 메모리주소"
      ],
      "metadata": {
        "colab": {
          "base_uri": "https://localhost:8080/"
        },
        "id": "lcsqKC2f6zWq",
        "outputId": "3d755d40-8320-4fde-914a-e82383d9b298"
      },
      "execution_count": 46,
      "outputs": [
        {
          "output_type": "stream",
          "name": "stdout",
          "text": [
            "134167208114048 134166164187712\n"
          ]
        }
      ]
    },
    {
      "cell_type": "code",
      "source": [
        "b=a"
      ],
      "metadata": {
        "id": "E8RuHCrI67pt"
      },
      "execution_count": 47,
      "outputs": []
    },
    {
      "cell_type": "code",
      "source": [
        "a.sort()"
      ],
      "metadata": {
        "id": "byldWsvj69XB"
      },
      "execution_count": 48,
      "outputs": []
    },
    {
      "cell_type": "code",
      "source": [
        "b"
      ],
      "metadata": {
        "colab": {
          "base_uri": "https://localhost:8080/"
        },
        "id": "A9PHDSzz6-0h",
        "outputId": "eaf731d9-6d2c-4056-b208-2227f0ca272a"
      },
      "execution_count": 49,
      "outputs": [
        {
          "output_type": "execute_result",
          "data": {
            "text/plain": [
              "[6, 7, 8, 9, 10]"
            ]
          },
          "metadata": {},
          "execution_count": 49
        }
      ]
    },
    {
      "cell_type": "code",
      "source": [
        "#########깊은 복사###########"
      ],
      "metadata": {
        "id": "OCu-D49r8Dob"
      },
      "execution_count": null,
      "outputs": []
    },
    {
      "cell_type": "code",
      "source": [
        "import copy\n",
        "a = [5,4,3,2,1]"
      ],
      "metadata": {
        "id": "LUNZJrxC8IBQ"
      },
      "execution_count": 51,
      "outputs": []
    },
    {
      "cell_type": "code",
      "source": [
        "b = copy.deepcopy(a)\n",
        "print(id(a),id(b))"
      ],
      "metadata": {
        "colab": {
          "base_uri": "https://localhost:8080/"
        },
        "id": "Cc4L2Soh8QVD",
        "outputId": "f5d57126-c357-42eb-c3a3-d49718b33cf1"
      },
      "execution_count": 52,
      "outputs": [
        {
          "output_type": "stream",
          "name": "stdout",
          "text": [
            "134166161103680 134166161063872\n"
          ]
        }
      ]
    },
    {
      "cell_type": "code",
      "source": [
        "a.sort()\n",
        "a"
      ],
      "metadata": {
        "colab": {
          "base_uri": "https://localhost:8080/"
        },
        "id": "40NtCkZj8ZkR",
        "outputId": "35522d53-35fc-494e-be11-02381f9cf278"
      },
      "execution_count": 53,
      "outputs": [
        {
          "output_type": "execute_result",
          "data": {
            "text/plain": [
              "[1, 2, 3, 4, 5]"
            ]
          },
          "metadata": {},
          "execution_count": 53
        }
      ]
    },
    {
      "cell_type": "code",
      "source": [
        "b"
      ],
      "metadata": {
        "colab": {
          "base_uri": "https://localhost:8080/"
        },
        "id": "c9k71xkj8c6W",
        "outputId": "6b747774-6dc7-4a66-a389-318c873b0f61"
      },
      "execution_count": 54,
      "outputs": [
        {
          "output_type": "execute_result",
          "data": {
            "text/plain": [
              "[5, 4, 3, 2, 1]"
            ]
          },
          "metadata": {},
          "execution_count": 54
        }
      ]
    },
    {
      "cell_type": "code",
      "source": [
        "###########"
      ],
      "metadata": {
        "id": "Y0e68TOS8lcU"
      },
      "execution_count": null,
      "outputs": []
    },
    {
      "cell_type": "code",
      "source": [
        "a = [5,4,3,2,1]"
      ],
      "metadata": {
        "id": "HvVceRKV8nP8"
      },
      "execution_count": 55,
      "outputs": []
    },
    {
      "cell_type": "code",
      "source": [
        "b = a[:]"
      ],
      "metadata": {
        "id": "23QE4Xvp8pAb"
      },
      "execution_count": 56,
      "outputs": []
    },
    {
      "cell_type": "code",
      "source": [
        "print(id(a),id(b))"
      ],
      "metadata": {
        "colab": {
          "base_uri": "https://localhost:8080/"
        },
        "id": "4ZEYJlyz8rrb",
        "outputId": "24a44173-965f-4b23-f774-38211b9c735d"
      },
      "execution_count": 57,
      "outputs": [
        {
          "output_type": "stream",
          "name": "stdout",
          "text": [
            "134166162425536 134166161001152\n"
          ]
        }
      ]
    },
    {
      "cell_type": "code",
      "source": [
        "b"
      ],
      "metadata": {
        "colab": {
          "base_uri": "https://localhost:8080/"
        },
        "id": "houR7t7z8zcg",
        "outputId": "9f147330-98f7-4591-fc95-b32ff89d28d0"
      },
      "execution_count": 58,
      "outputs": [
        {
          "output_type": "execute_result",
          "data": {
            "text/plain": [
              "[5, 4, 3, 2, 1]"
            ]
          },
          "metadata": {},
          "execution_count": 58
        }
      ]
    },
    {
      "cell_type": "code",
      "source": [
        "a.sort()"
      ],
      "metadata": {
        "id": "5oCDIbZN81na"
      },
      "execution_count": 59,
      "outputs": []
    },
    {
      "cell_type": "code",
      "source": [
        "a"
      ],
      "metadata": {
        "colab": {
          "base_uri": "https://localhost:8080/"
        },
        "id": "Rq8ws9Qn85sP",
        "outputId": "ac2ed81a-ddab-43bd-943b-3de8adb69bd6"
      },
      "execution_count": 60,
      "outputs": [
        {
          "output_type": "execute_result",
          "data": {
            "text/plain": [
              "[1, 2, 3, 4, 5]"
            ]
          },
          "metadata": {},
          "execution_count": 60
        }
      ]
    },
    {
      "cell_type": "code",
      "source": [
        "b"
      ],
      "metadata": {
        "colab": {
          "base_uri": "https://localhost:8080/"
        },
        "id": "QtbhNsWT867C",
        "outputId": "4b80f59d-c765-4bfe-81b6-87131f526ee2"
      },
      "execution_count": 61,
      "outputs": [
        {
          "output_type": "execute_result",
          "data": {
            "text/plain": [
              "[5, 4, 3, 2, 1]"
            ]
          },
          "metadata": {},
          "execution_count": 61
        }
      ]
    },
    {
      "cell_type": "code",
      "source": [
        "a = [[1,2],[3,4]] ###2차원에서는 안먹히는 방법\n",
        "a"
      ],
      "metadata": {
        "colab": {
          "base_uri": "https://localhost:8080/"
        },
        "id": "IDwOQN2s89aE",
        "outputId": "5cc355d8-aa98-4511-aff3-14826ab522b3"
      },
      "execution_count": 62,
      "outputs": [
        {
          "output_type": "execute_result",
          "data": {
            "text/plain": [
              "[[1, 2], [3, 4]]"
            ]
          },
          "metadata": {},
          "execution_count": 62
        }
      ]
    },
    {
      "cell_type": "code",
      "source": [
        "b = a[:]"
      ],
      "metadata": {
        "id": "b3EkAq3h9As2"
      },
      "execution_count": 63,
      "outputs": []
    },
    {
      "cell_type": "code",
      "source": [
        "a[0][1]=100\n",
        "a"
      ],
      "metadata": {
        "colab": {
          "base_uri": "https://localhost:8080/"
        },
        "id": "bIgXrE0m9DgG",
        "outputId": "d8d4bf11-2d23-4dc5-8337-8f8deb7e62e9"
      },
      "execution_count": 64,
      "outputs": [
        {
          "output_type": "execute_result",
          "data": {
            "text/plain": [
              "[[1, 100], [3, 4]]"
            ]
          },
          "metadata": {},
          "execution_count": 64
        }
      ]
    },
    {
      "cell_type": "code",
      "source": [
        "b"
      ],
      "metadata": {
        "colab": {
          "base_uri": "https://localhost:8080/"
        },
        "id": "-Qw3iZ8S9Hi9",
        "outputId": "d2c33e5e-8cfb-4f11-9e99-da28e58ef2ba"
      },
      "execution_count": 65,
      "outputs": [
        {
          "output_type": "execute_result",
          "data": {
            "text/plain": [
              "[[1, 100], [3, 4]]"
            ]
          },
          "metadata": {},
          "execution_count": 65
        }
      ]
    },
    {
      "cell_type": "code",
      "source": [
        "dict_3 = {'홍길동':100, '홍계월':200}\n",
        "dict_3"
      ],
      "metadata": {
        "colab": {
          "base_uri": "https://localhost:8080/"
        },
        "id": "5BLZF3PcBh_I",
        "outputId": "fdcae88d-499e-4b63-aece-81936702553a"
      },
      "execution_count": 75,
      "outputs": [
        {
          "output_type": "execute_result",
          "data": {
            "text/plain": [
              "{'홍길동': 100, '홍계월': 200}"
            ]
          },
          "metadata": {},
          "execution_count": 75
        }
      ]
    },
    {
      "cell_type": "code",
      "source": [
        "dict_3['슈퍼맨']=300\n",
        "dict_3"
      ],
      "metadata": {
        "colab": {
          "base_uri": "https://localhost:8080/"
        },
        "id": "xXhS-7bpBrSg",
        "outputId": "2d0f0f99-4caf-4e24-eae1-b154c46fea40"
      },
      "execution_count": 76,
      "outputs": [
        {
          "output_type": "execute_result",
          "data": {
            "text/plain": [
              "{'홍길동': 100, '홍계월': 200, '슈퍼맨': 300}"
            ]
          },
          "metadata": {},
          "execution_count": 76
        }
      ]
    },
    {
      "cell_type": "code",
      "source": [
        "#dict_3[0] #키에러!"
      ],
      "metadata": {
        "colab": {
          "base_uri": "https://localhost:8080/",
          "height": 146
        },
        "id": "Feh-K_OXB083",
        "outputId": "ff24df55-675f-4e42-ac87-c876ec6ca3ee"
      },
      "execution_count": 68,
      "outputs": [
        {
          "output_type": "error",
          "ename": "KeyError",
          "evalue": "0",
          "traceback": [
            "\u001b[0;31m---------------------------------------------------------------------------\u001b[0m",
            "\u001b[0;31mKeyError\u001b[0m                                  Traceback (most recent call last)",
            "\u001b[0;32m<ipython-input-68-099f615ded4e>\u001b[0m in \u001b[0;36m<cell line: 1>\u001b[0;34m()\u001b[0m\n\u001b[0;32m----> 1\u001b[0;31m \u001b[0mdict_3\u001b[0m\u001b[0;34m[\u001b[0m\u001b[0;36m0\u001b[0m\u001b[0;34m]\u001b[0m\u001b[0;34m\u001b[0m\u001b[0;34m\u001b[0m\u001b[0m\n\u001b[0m",
            "\u001b[0;31mKeyError\u001b[0m: 0"
          ]
        }
      ]
    },
    {
      "cell_type": "code",
      "source": [
        "dict_3['홍길동']=1\n",
        "dict_3"
      ],
      "metadata": {
        "colab": {
          "base_uri": "https://localhost:8080/"
        },
        "id": "Xz4zSXv0B69Y",
        "outputId": "41de3015-c53b-4106-da89-f8d427c59424"
      },
      "execution_count": 77,
      "outputs": [
        {
          "output_type": "execute_result",
          "data": {
            "text/plain": [
              "{'홍길동': 1, '홍계월': 200, '슈퍼맨': 300}"
            ]
          },
          "metadata": {},
          "execution_count": 77
        }
      ]
    },
    {
      "cell_type": "code",
      "source": [
        "del dict_3['슈퍼맨']\n",
        "dict_3"
      ],
      "metadata": {
        "colab": {
          "base_uri": "https://localhost:8080/"
        },
        "id": "pZ0Q0jn8CICg",
        "outputId": "97894064-3b33-4c74-ee02-23ac58a1b137"
      },
      "execution_count": 78,
      "outputs": [
        {
          "output_type": "execute_result",
          "data": {
            "text/plain": [
              "{'홍길동': 1, '홍계월': 200}"
            ]
          },
          "metadata": {},
          "execution_count": 78
        }
      ]
    },
    {
      "cell_type": "code",
      "source": [
        "dict_3 = {'홍길동':100, '홍계월':200, '슈퍼맨':150, '배트맨':250}\n",
        "# key만 호출\n",
        "print(dict_3.keys())\n",
        "print(type(dict_3.keys()))"
      ],
      "metadata": {
        "colab": {
          "base_uri": "https://localhost:8080/"
        },
        "id": "QkwwnuMlCbKx",
        "outputId": "69ac9d9a-ba73-4125-ecb2-c6c17be2618f"
      },
      "execution_count": 79,
      "outputs": [
        {
          "output_type": "stream",
          "name": "stdout",
          "text": [
            "dict_keys(['홍길동', '홍계월', '슈퍼맨', '배트맨'])\n",
            "<class 'dict_keys'>\n"
          ]
        }
      ]
    },
    {
      "cell_type": "code",
      "source": [
        "#values만 호출\n",
        "print(dict_3.values())\n",
        "print(type(dict_3.values()))"
      ],
      "metadata": {
        "colab": {
          "base_uri": "https://localhost:8080/"
        },
        "id": "z0XwXXWcC7Ea",
        "outputId": "3ebd1b89-f601-4543-e9af-0d468f677c68"
      },
      "execution_count": 81,
      "outputs": [
        {
          "output_type": "stream",
          "name": "stdout",
          "text": [
            "dict_values([100, 200, 150, 250])\n",
            "<class 'dict_values'>\n",
            "dict_values([100, 200, 150, 250])\n",
            "<class 'dict_values'>\n"
          ]
        }
      ]
    },
    {
      "cell_type": "code",
      "source": [
        "#key,values 호출\n",
        "print(dict_3.items())\n",
        "print(type(dict_3.items()))"
      ],
      "metadata": {
        "colab": {
          "base_uri": "https://localhost:8080/"
        },
        "id": "F3aFvu4GDHDD",
        "outputId": "0b7c8eb4-6c63-418c-c31f-30e2515c4f4b"
      },
      "execution_count": 82,
      "outputs": [
        {
          "output_type": "stream",
          "name": "stdout",
          "text": [
            "dict_items([('홍길동', 100), ('홍계월', 200), ('슈퍼맨', 150), ('배트맨', 250)])\n",
            "<class 'dict_items'>\n"
          ]
        }
      ]
    },
    {
      "cell_type": "code",
      "source": [
        "#dict_3.items()[0] 에러!\n",
        "list(dict_3.items())[0] #list로 감싸주면 list로 나타낼수있음."
      ],
      "metadata": {
        "colab": {
          "base_uri": "https://localhost:8080/"
        },
        "id": "jEJb-NKKDhRJ",
        "outputId": "73cf3310-c85f-46f3-f759-a956c7552176"
      },
      "execution_count": 83,
      "outputs": [
        {
          "output_type": "execute_result",
          "data": {
            "text/plain": [
              "('홍길동', 100)"
            ]
          },
          "metadata": {},
          "execution_count": 83
        }
      ]
    },
    {
      "cell_type": "code",
      "source": [
        "3 and 5 #and 논리연산자 항상 큰 숫자\n",
        "3 & 5 #비트연산자 (이진법 교집합 나옴) #011 & 0101"
      ],
      "metadata": {
        "colab": {
          "base_uri": "https://localhost:8080/"
        },
        "id": "7HUwsbyGECvU",
        "outputId": "9e127bd2-e22b-471c-9076-e5a804fb1de1"
      },
      "execution_count": 85,
      "outputs": [
        {
          "output_type": "execute_result",
          "data": {
            "text/plain": [
              "1"
            ]
          },
          "metadata": {},
          "execution_count": 85
        }
      ]
    },
    {
      "cell_type": "code",
      "source": [
        "3 & 7 #011 & 0111"
      ],
      "metadata": {
        "colab": {
          "base_uri": "https://localhost:8080/"
        },
        "id": "dH04CHfnGOsv",
        "outputId": "b6ddac20-fe11-4060-d04d-fceec2325075"
      },
      "execution_count": 86,
      "outputs": [
        {
          "output_type": "execute_result",
          "data": {
            "text/plain": [
              "3"
            ]
          },
          "metadata": {},
          "execution_count": 86
        }
      ]
    },
    {
      "cell_type": "code",
      "source": [
        "set_5 = {1,2,3,4}\n",
        "set_6 = {4,5,6,7}"
      ],
      "metadata": {
        "id": "DeTXfwm0GS9L"
      },
      "execution_count": 91,
      "outputs": []
    },
    {
      "cell_type": "code",
      "source": [
        "set_5 & set_6"
      ],
      "metadata": {
        "colab": {
          "base_uri": "https://localhost:8080/"
        },
        "id": "7zxNXKnCHGa-",
        "outputId": "95d34af7-3f49-42c4-dc60-606bc5304851"
      },
      "execution_count": 92,
      "outputs": [
        {
          "output_type": "execute_result",
          "data": {
            "text/plain": [
              "{4}"
            ]
          },
          "metadata": {},
          "execution_count": 92
        }
      ]
    },
    {
      "cell_type": "code",
      "source": [
        "set_5 | set_6"
      ],
      "metadata": {
        "colab": {
          "base_uri": "https://localhost:8080/"
        },
        "id": "zDI4Z-Q3HKTg",
        "outputId": "0704c39f-b236-4c3a-d49d-bff5d838df23"
      },
      "execution_count": 93,
      "outputs": [
        {
          "output_type": "execute_result",
          "data": {
            "text/plain": [
              "{1, 2, 3, 4, 5, 6, 7}"
            ]
          },
          "metadata": {},
          "execution_count": 93
        }
      ]
    },
    {
      "cell_type": "code",
      "source": [
        "3 or 5\n",
        "3 | 5"
      ],
      "metadata": {
        "colab": {
          "base_uri": "https://localhost:8080/"
        },
        "id": "jd-XkRc-HQQC",
        "outputId": "6513cecf-910f-45e5-9010-cd734b9891fd"
      },
      "execution_count": 94,
      "outputs": [
        {
          "output_type": "execute_result",
          "data": {
            "text/plain": [
              "7"
            ]
          },
          "metadata": {},
          "execution_count": 94
        }
      ]
    },
    {
      "cell_type": "code",
      "source": [
        "money = True\n",
        "if money:\n",
        "  print('여행을 간다')\n",
        "else:\n",
        "  print('여행을 안간다')\n"
      ],
      "metadata": {
        "colab": {
          "base_uri": "https://localhost:8080/"
        },
        "id": "xZFh2MOjJKsw",
        "outputId": "7634441f-2c8d-4799-8bcb-a9c0c7b11c68"
      },
      "execution_count": 95,
      "outputs": [
        {
          "output_type": "stream",
          "name": "stdout",
          "text": [
            "여행을 간다\n"
          ]
        }
      ]
    },
    {
      "cell_type": "code",
      "source": [
        "money = 0\n",
        "\n",
        "if 0<money<5000:\n",
        "  print('라면을 먹는다')\n",
        "elif 5000<=money<25000:\n",
        "  print(' 치킨을 먹는다')\n",
        "elif 25000<=money<50000:\n",
        "  print('삼겹살을 먹는다')\n",
        "elif 50000<money:\n",
        "  print('소고기를 먹는다.')\n",
        "else:\n",
        "  print('굶는다')\n",
        "\n",
        "#동일한 코드 (^^^^^위의 코드를 권장!)\n",
        "# if와 else는 짝임 else가 없는 코드는 틀린것은 아니지만 권장하지 않음.\n",
        "\n",
        "if 0<money:\n",
        "  if money<5000:\n",
        "    print('라면을 먹는다')\n",
        "  elif 5000<=money<25000:\n",
        "    print('치킨을 먹는다')\n",
        "  elif 25000<=money<50000:\n",
        "    print('삼겹살을 먹는다.')\n",
        "  else:\n",
        "    print('소고기를 먹는다.')\n",
        "else:\n",
        "  print('굶는다.')"
      ],
      "metadata": {
        "colab": {
          "base_uri": "https://localhost:8080/"
        },
        "id": "c2gHT21cJYdL",
        "outputId": "8a008b66-ba40-491d-a6cb-9229508c78fa"
      },
      "execution_count": 103,
      "outputs": [
        {
          "output_type": "stream",
          "name": "stdout",
          "text": [
            "굶는다\n"
          ]
        }
      ]
    },
    {
      "cell_type": "code",
      "source": [
        "value = 20\n",
        "\n",
        "if value%2==0:\n",
        "  is_even = True\n",
        "else:\n",
        "  is_even = False\n",
        "is_even\n",
        "\n",
        "#삼항연산자 코드를 줄여서 쓸 수 있음.\n",
        "value = 20\n",
        "\n",
        "is_even = True if value%2==0 else False\n",
        "is_even\n"
      ],
      "metadata": {
        "colab": {
          "base_uri": "https://localhost:8080/"
        },
        "id": "so8J_MqFSeFF",
        "outputId": "8f76a4bb-20a6-4b96-b811-355147997c84"
      },
      "execution_count": 104,
      "outputs": [
        {
          "output_type": "execute_result",
          "data": {
            "text/plain": [
              "True"
            ]
          },
          "metadata": {},
          "execution_count": 104
        }
      ]
    },
    {
      "cell_type": "code",
      "source": [
        "num = 1\n",
        "print('문자열 포맷팅 하기 예시 %d' %num) #%d = 정수만 받을수 있음(int)"
      ],
      "metadata": {
        "colab": {
          "base_uri": "https://localhost:8080/"
        },
        "id": "pcDo0r5ATn_5",
        "outputId": "d5ef3472-7ecb-42e1-eb07-133c034414cc"
      },
      "execution_count": 106,
      "outputs": [
        {
          "output_type": "stream",
          "name": "stdout",
          "text": [
            "문자열 포맷팅 하기 예시 1\n"
          ]
        }
      ]
    },
    {
      "cell_type": "code",
      "source": [
        "ch= '이름'\n",
        "print('내 이름은 : %s' %ch) #s : 문자열만 가능 (str)"
      ],
      "metadata": {
        "colab": {
          "base_uri": "https://localhost:8080/"
        },
        "id": "7Z8-IgXGT279",
        "outputId": "f34fc4bb-3f58-4c63-e04d-b385f61cf6e9"
      },
      "execution_count": 108,
      "outputs": [
        {
          "output_type": "stream",
          "name": "stdout",
          "text": [
            "내 이름은 : 이름\n"
          ]
        }
      ]
    },
    {
      "cell_type": "code",
      "source": [
        "fl = 2.56726525\n",
        "print('반올림 하기 : %0.1f' %fl) #소숫점1의 자리에서 반올림 해달라는 말"
      ],
      "metadata": {
        "colab": {
          "base_uri": "https://localhost:8080/"
        },
        "id": "HdmWCD2vUQ9W",
        "outputId": "ff982003-706b-434b-99de-45de89ac7459"
      },
      "execution_count": 109,
      "outputs": [
        {
          "output_type": "stream",
          "name": "stdout",
          "text": [
            "반올림 하기 : 2.6\n"
          ]
        }
      ]
    },
    {
      "cell_type": "code",
      "source": [
        "fl = 1/3\n",
        "print('반올림 하기 : %0.30f' %fl) #소숫점1의 자리에서 반올림 해달라는 말\n",
        "#반올림 하기 : 0.333333333333333314829616256247 16자리까지만 유효하고 그 뒤는 에러가 남\n"
      ],
      "metadata": {
        "colab": {
          "base_uri": "https://localhost:8080/"
        },
        "id": "6JmM8_FRUyYF",
        "outputId": "f7dc7772-88de-412f-bcc0-f99b2cc66406"
      },
      "execution_count": 110,
      "outputs": [
        {
          "output_type": "stream",
          "name": "stdout",
          "text": [
            "반올림 하기 : 0.333333333333333314829616256247\n"
          ]
        }
      ]
    },
    {
      "cell_type": "code",
      "source": [
        "print('문자열 포맷팅 하기 예시 {}'.format(2))"
      ],
      "metadata": {
        "colab": {
          "base_uri": "https://localhost:8080/"
        },
        "id": "e0-TKAiBVsvG",
        "outputId": "353ca410-4995-4204-e4c3-8e72c22498d7"
      },
      "execution_count": 115,
      "outputs": [
        {
          "output_type": "stream",
          "name": "stdout",
          "text": [
            "문자열 포맷팅 하기 예시 2\n"
          ]
        }
      ]
    },
    {
      "cell_type": "code",
      "source": [
        "print('내 이름은 : {}'.format(ch))"
      ],
      "metadata": {
        "colab": {
          "base_uri": "https://localhost:8080/"
        },
        "id": "7_7AgGaMVz_d",
        "outputId": "c86cbfcf-e9da-4f3f-f8f3-95607cb4fef9"
      },
      "execution_count": 113,
      "outputs": [
        {
          "output_type": "stream",
          "name": "stdout",
          "text": [
            "내 이름은 : 이름\n"
          ]
        }
      ]
    },
    {
      "cell_type": "code",
      "source": [
        "a = '박'\n",
        "b = '채은'\n",
        "print('성은 {}, 이름은 {}'.format(a,b)) #괄호로 묶어주면 두 개 이상도 가능"
      ],
      "metadata": {
        "colab": {
          "base_uri": "https://localhost:8080/"
        },
        "id": "ESLaw27sWGnv",
        "outputId": "bcfd561e-94dd-4b03-86e2-268424fadea2"
      },
      "execution_count": 116,
      "outputs": [
        {
          "output_type": "stream",
          "name": "stdout",
          "text": [
            "성은 박, 이름은 채은\n"
          ]
        }
      ]
    },
    {
      "cell_type": "code",
      "source": [
        "print('성은 {0}, 이름은 {1}'. format(a,b)) #인덱스를 통해 순서 지정도 가능"
      ],
      "metadata": {
        "colab": {
          "base_uri": "https://localhost:8080/"
        },
        "id": "E5NSTCJbWa7y",
        "outputId": "a1c03584-5a95-4f28-8415-423e8af1c000"
      },
      "execution_count": 119,
      "outputs": [
        {
          "output_type": "stream",
          "name": "stdout",
          "text": [
            "성은 박, 이름은 채은\n"
          ]
        }
      ]
    },
    {
      "cell_type": "code",
      "source": [
        "'나는 오늘 %s 를 %d + 1 잔이나 마셨다' %('커피', 3)"
      ],
      "metadata": {
        "colab": {
          "base_uri": "https://localhost:8080/",
          "height": 35
        },
        "id": "NfTKQv_LW8z8",
        "outputId": "adc63c1d-a1d8-42a5-86f3-c0aa5cc29053"
      },
      "execution_count": 120,
      "outputs": [
        {
          "output_type": "execute_result",
          "data": {
            "text/plain": [
              "'나는 오늘 커피 를 3 + 1 잔이나 마셨다'"
            ],
            "application/vnd.google.colaboratory.intrinsic+json": {
              "type": "string"
            }
          },
          "metadata": {},
          "execution_count": 120
        }
      ]
    },
    {
      "cell_type": "code",
      "source": [
        "#'나는 오늘 {음료}를 {개수+1} 잔이나 마셨다'. format(음료='커피', 개수=3)\n",
        "# 키에러!"
      ],
      "metadata": {
        "id": "frbEsWnUXQCj"
      },
      "execution_count": 122,
      "outputs": []
    },
    {
      "cell_type": "code",
      "source": [
        "#### f-string ####\n",
        "###다른 포맷팅과는 다르게 표현식을 지원함. 이것만 가능! 연산 다 가능###\n",
        "drink = '커피'\n",
        "nums = 3\n",
        "\n",
        "f'나는 오늘 {drink}를 {nums + 3} 잔이나 마셨다'"
      ],
      "metadata": {
        "colab": {
          "base_uri": "https://localhost:8080/",
          "height": 35
        },
        "id": "vht6QRS5Xde0",
        "outputId": "345d1b27-7e69-4caf-fa2e-9be8701915fc"
      },
      "execution_count": 165,
      "outputs": [
        {
          "output_type": "execute_result",
          "data": {
            "text/plain": [
              "'나는 오늘 커피를 6 잔이나 마셨다'"
            ],
            "application/vnd.google.colaboratory.intrinsic+json": {
              "type": "string"
            }
          },
          "metadata": {},
          "execution_count": 165
        }
      ]
    },
    {
      "cell_type": "code",
      "source": [
        "####연습문제####\n",
        "#b로 a를 나눈 나머지가 3 초과면 실패, 3이면 무승부, 3 미만이면 성공이 출력도도록 만들어보자\n",
        "a = 34\n",
        "b = 4\n"
      ],
      "metadata": {
        "id": "LHJqO3pgYipM"
      },
      "execution_count": 156,
      "outputs": []
    },
    {
      "cell_type": "code",
      "source": [
        "if b % a > 3:\n",
        "  print('실패')\n",
        "elif b %a == 3:\n",
        "  print('무승부')\n",
        "else :\n",
        "  print('성공')"
      ],
      "metadata": {
        "colab": {
          "base_uri": "https://localhost:8080/"
        },
        "id": "yrgn22j6ZJBi",
        "outputId": "052097f6-899c-4762-d96d-4bfa7383d34e"
      },
      "execution_count": 158,
      "outputs": [
        {
          "output_type": "stream",
          "name": "stdout",
          "text": [
            "실패\n"
          ]
        }
      ]
    },
    {
      "cell_type": "code",
      "source": [
        "#5-2\n",
        "#홀수짝수\n",
        "a = int(input('정수를 입력해 주세요:'))\n",
        "\n",
        "if a %2==0 :\n",
        "  print(f'입력하신 {a}는 짝수입니다.')\n",
        "\n",
        "else :\n",
        "  print(f'입력하신 {a}는 홀수입니다.')\n",
        "\n"
      ],
      "metadata": {
        "colab": {
          "base_uri": "https://localhost:8080/"
        },
        "id": "fjtX1J9FYuXi",
        "outputId": "90b916bd-9f73-4fd3-8788-ba7610ad53e0"
      },
      "execution_count": 169,
      "outputs": [
        {
          "output_type": "stream",
          "name": "stdout",
          "text": [
            "정수를 입력해 주세요:222\n",
            "입력하신 222는 짝수입니다.\n"
          ]
        }
      ]
    },
    {
      "cell_type": "code",
      "source": [
        "#5-3\n",
        "a = int(input('당신이 태어난 년도를 입력하세요'))\n",
        "\n",
        "age = int(2024 - a + 1)\n",
        "#print(age)\n",
        "if 20 <= age <=26:\n",
        "  print(\"대학생\")\n",
        "elif 17 <= age < 20:\n",
        "  print(\"고등학생\")\n",
        "elif 14 <= age < 17:\n",
        "  print(\"중학생\")\n",
        "else :\n",
        "  print(\"학생이 아닙니다\")"
      ],
      "metadata": {
        "colab": {
          "base_uri": "https://localhost:8080/"
        },
        "id": "3zr9ilnjdDSI",
        "outputId": "5959b374-8ccd-46e8-8785-a557159f9cc8"
      },
      "execution_count": 176,
      "outputs": [
        {
          "output_type": "stream",
          "name": "stdout",
          "text": [
            "당신이 태어난 년도를 입력하세요2000\n",
            "대학생\n"
          ]
        }
      ]
    },
    {
      "cell_type": "code",
      "source": [
        "#5-4\n",
        "a, b, c = input().split() #split으로 한번에 몇가지를 받을 수 있음.\n",
        "\n",
        "\n",
        "if a > 65 and b > 65 and c > 65 :\n",
        "  print(\"합격\")\n",
        "else :\n",
        "  print(\"불합격\")"
      ],
      "metadata": {
        "colab": {
          "base_uri": "https://localhost:8080/",
          "height": 256
        },
        "id": "HXtOesDZi5ea",
        "outputId": "511f01cf-ff25-426d-8b5d-10f9d38cea23"
      },
      "execution_count": 207,
      "outputs": [
        {
          "output_type": "stream",
          "name": "stdout",
          "text": [
            "33 55 77\n",
            "<class 'str'>\n"
          ]
        },
        {
          "output_type": "error",
          "ename": "TypeError",
          "evalue": "'>' not supported between instances of 'str' and 'int'",
          "traceback": [
            "\u001b[0;31m---------------------------------------------------------------------------\u001b[0m",
            "\u001b[0;31mTypeError\u001b[0m                                 Traceback (most recent call last)",
            "\u001b[0;32m<ipython-input-207-eacc0e07b205>\u001b[0m in \u001b[0;36m<cell line: 6>\u001b[0;34m()\u001b[0m\n\u001b[1;32m      4\u001b[0m \u001b[0mprint\u001b[0m\u001b[0;34m(\u001b[0m\u001b[0mtype\u001b[0m\u001b[0;34m(\u001b[0m\u001b[0ma\u001b[0m\u001b[0;34m)\u001b[0m\u001b[0;34m)\u001b[0m\u001b[0;34m\u001b[0m\u001b[0;34m\u001b[0m\u001b[0m\n\u001b[1;32m      5\u001b[0m \u001b[0;34m\u001b[0m\u001b[0m\n\u001b[0;32m----> 6\u001b[0;31m \u001b[0;32mif\u001b[0m \u001b[0ma\u001b[0m \u001b[0;34m>\u001b[0m \u001b[0;36m65\u001b[0m \u001b[0;32mand\u001b[0m \u001b[0mb\u001b[0m \u001b[0;34m>\u001b[0m \u001b[0;36m65\u001b[0m \u001b[0;32mand\u001b[0m \u001b[0mc\u001b[0m \u001b[0;34m>\u001b[0m \u001b[0;36m65\u001b[0m \u001b[0;34m:\u001b[0m\u001b[0;34m\u001b[0m\u001b[0;34m\u001b[0m\u001b[0m\n\u001b[0m\u001b[1;32m      7\u001b[0m   \u001b[0mprint\u001b[0m\u001b[0;34m(\u001b[0m\u001b[0;34m\"합격\"\u001b[0m\u001b[0;34m)\u001b[0m\u001b[0;34m\u001b[0m\u001b[0;34m\u001b[0m\u001b[0m\n\u001b[1;32m      8\u001b[0m \u001b[0;32melse\u001b[0m \u001b[0;34m:\u001b[0m\u001b[0;34m\u001b[0m\u001b[0;34m\u001b[0m\u001b[0m\n",
            "\u001b[0;31mTypeError\u001b[0m: '>' not supported between instances of 'str' and 'int'"
          ]
        }
      ]
    },
    {
      "cell_type": "code",
      "source": [
        "a = int(input('점수1은 '))\n",
        "b = int(input('점수2는 '))\n",
        "c = int(input('점수3은 '))\n",
        "\n",
        "if 100 >= a >= 0 and 100 >= b >= 0 and 100 >= c >= 0:\n",
        "  if a > 65 and b > 65 and c > 65 :\n",
        "    print(\"합격\")\n",
        "  else:\n",
        "   print(\"불합격\")\n",
        "else:\n",
        "  print(\"잘못된 점수가 입력되었습니다\")"
      ],
      "metadata": {
        "colab": {
          "base_uri": "https://localhost:8080/"
        },
        "id": "XZvKx0ZoqNGh",
        "outputId": "3bd04307-e5ab-47a4-f4ca-d2eebebdbffa"
      },
      "execution_count": 232,
      "outputs": [
        {
          "output_type": "stream",
          "name": "stdout",
          "text": [
            "점수1은 55\n",
            "점수2는 11\n",
            "점수3은 123\n",
            "잘못된 점수가 입력되었습니다\n"
          ]
        }
      ]
    },
    {
      "cell_type": "code",
      "source": [
        "#5-5\n",
        "#양의 정수 하나를 입력 받아 이 정수가 2의 배수인지 3의 배수인지 작성하시오\n",
        "\n",
        "a = int(input('정수를 입력하세요'))\n",
        "\n",
        "if a % 3==0 and a % 2==0:\n",
        "  print('2와 3의 공배수입니다')\n",
        "elif a  % 2== 0:\n",
        "  print('2의 배수입니다')\n",
        "elif a % 3== 0:\n",
        "  print('3의 배수입니다')\n",
        "else :\n",
        " print ('2와 3의 배수가 아닙니다')"
      ],
      "metadata": {
        "colab": {
          "base_uri": "https://localhost:8080/"
        },
        "id": "lEqW4p-2w4bJ",
        "outputId": "aefc85bb-18e5-46cd-f64f-c54bcdfea56e"
      },
      "execution_count": 251,
      "outputs": [
        {
          "output_type": "stream",
          "name": "stdout",
          "text": [
            "정수를 입력하세요3\n",
            "3의 배수입니다\n"
          ]
        }
      ]
    }
  ]
}